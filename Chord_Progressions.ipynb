{
  "nbformat": 4,
  "nbformat_minor": 0,
  "metadata": {
    "colab": {
      "name": "Chord_Progressions.ipynb",
      "provenance": [],
      "collapsed_sections": []
    },
    "kernelspec": {
      "name": "python3",
      "display_name": "Python 3"
    }
  },
  "cells": [
    {
      "cell_type": "code",
      "metadata": {
        "id": "e325u6XIWSYf"
      },
      "source": [
        "#Importing all necessary packages\r\n",
        "\r\n",
        "import gzip\r\n",
        "import pandas as pd\r\n",
        "import matplotlib.pyplot as plt\r\n",
        "import math\r\n",
        "import random\r\n",
        "from sklearn.preprocessing import LabelEncoder\r\n",
        "\r\n",
        "#Unzipping the data csv file\r\n",
        "\r\n",
        "f = gzip.open('/content/data.csv.gz', 'rb')\r\n",
        "data = pd.read_csv(f)\r\n",
        "f.close()"
      ],
      "execution_count": null,
      "outputs": []
    },
    {
      "cell_type": "code",
      "metadata": {
        "id": "aZusHHtiXZOH",
        "colab": {
          "base_uri": "https://localhost:8080/"
        },
        "outputId": "1e0fd171-f588-4943-81c0-c51c3d1416dc"
      },
      "source": [
        "le = LabelEncoder()\r\n",
        "print(data)"
      ],
      "execution_count": null,
      "outputs": [
        {
          "output_type": "stream",
          "text": [
            "    Chord1 Chord2 Chord3 Chord4\n",
            "0       i7     i7     i7     i7\n",
            "1        V   ♭VII   ♭VII   ♭VII\n",
            "2        I      I     ii   ii°7\n",
            "3      iv9      i    iv9   ♭VII\n",
            "4        I      I     IV     IV\n",
            "..     ...    ...    ...    ...\n",
            "728      I     IV     ii   ♭VII\n",
            "729      I      V    vi7   IVM9\n",
            "730      I      I    vi9    vi9\n",
            "731      I     ii     ii      I\n",
            "732     i9      i      i    iv9\n",
            "\n",
            "[733 rows x 4 columns]\n"
          ],
          "name": "stdout"
        }
      ]
    },
    {
      "cell_type": "code",
      "metadata": {
        "id": "t0MI7uMNo5j2"
      },
      "source": [
        "def encode(data):\r\n",
        "\r\n",
        "  encoded_data = pd.DataFrame()\r\n",
        "  for x in range(1, len(data.columns) + 1):\r\n",
        "    encoded_data[(\"Chord\" + str(x) + \"_E\")] = le.fit_transform(data[(\"Chord\" + str(x))])\r\n",
        "    \r\n",
        "  return encoded_data"
      ],
      "execution_count": null,
      "outputs": []
    },
    {
      "cell_type": "markdown",
      "metadata": {
        "id": "M81v49TXZrZb"
      },
      "source": [
        "The data is encoded as numeric values in order to simplify processing and future adaptation for ML models, etc."
      ]
    },
    {
      "cell_type": "code",
      "metadata": {
        "id": "3KWiEovTsa4J"
      },
      "source": [
        "def chord_tally(encoded_data, chord_num):\r\n",
        "\r\n",
        "  chord_tally = dict()\r\n",
        "  \r\n",
        "  for x in encoded_data[\"Chord%s_E\" % chord_num]:\r\n",
        "    if x not in chord_tally:\r\n",
        "      chord_tally[x] = 1\r\n",
        "    else:\r\n",
        "      chord_tally[x] += 1\r\n",
        "\r\n",
        "  return chord_tally"
      ],
      "execution_count": null,
      "outputs": []
    },
    {
      "cell_type": "markdown",
      "metadata": {
        "id": "IANlnidCZ0Kq"
      },
      "source": [
        "The number of instances of each chord in each of 4 positions is tallied."
      ]
    },
    {
      "cell_type": "code",
      "metadata": {
        "id": "qhHgHU9wZVzc"
      },
      "source": [
        "def first_to_second(encoded_data, num):\r\n",
        "  \r\n",
        "  counts = dict()\r\n",
        "  for x in range(len(encoded_data[\"Chord%s_E\" % num])):\r\n",
        "    if str(encoded_data[\"Chord%s_E\" % num][x]) + \" \" + str(encoded_data[\"Chord%s_E\" % (num + 1)][x]) not in counts:\r\n",
        "      counts[str(encoded_data[\"Chord%s_E\" % num][x]) + \" \" + str(encoded_data[\"Chord%s_E\" % (num + 1)][x])] = 1\r\n",
        "    else:\r\n",
        "      counts[str(encoded_data[\"Chord%s_E\" % num][x]) + \" \" + str(encoded_data[\"Chord%s_E\" % (num + 1)][x])] += 1\r\n",
        "  \r\n",
        "  return counts "
      ],
      "execution_count": null,
      "outputs": []
    },
    {
      "cell_type": "markdown",
      "metadata": {
        "id": "OykEjWMdZ44L"
      },
      "source": [
        "The number of occurrences of two chord sequences in any of 3 possible positions is tallied and returned as a dictionary."
      ]
    },
    {
      "cell_type": "code",
      "metadata": {
        "id": "YLhLMLOzd_4O"
      },
      "source": [
        "def first_to_second_ratios(c1_c2_counts, c1):\r\n",
        "  \r\n",
        "  ratios = dict()\r\n",
        "  cts = list(c1_c2_counts.keys())\r\n",
        "  for x in range(len(cts)):\r\n",
        "      ratios[cts[x]] = c1_c2_counts[cts[x]] / c1[find_first_chord(cts[x])]\r\n",
        "\r\n",
        "  return ratios"
      ],
      "execution_count": null,
      "outputs": []
    },
    {
      "cell_type": "markdown",
      "metadata": {
        "id": "soQvslF-aSLj"
      },
      "source": [
        "Using the tallies generated in the previous step, the sequence ratios (i.e. occurences of a two chord sequence in the dataset out of all two chord sequences in that same position) are calculated and returned."
      ]
    },
    {
      "cell_type": "code",
      "metadata": {
        "id": "YKT0e5VeaQHB"
      },
      "source": [
        "def find_first_chord(chords):\n",
        "\n",
        "  first_chord = \"\"\n",
        "  for x in chords:\n",
        "    if x != \" \":\n",
        "      first_chord += x\n",
        "    else:\n",
        "      break\n",
        "      \n",
        "  return int(first_chord)"
      ],
      "execution_count": null,
      "outputs": []
    },
    {
      "cell_type": "markdown",
      "metadata": {
        "id": "Fc4X9sJlahgm"
      },
      "source": [
        "A function is defined to find the first word given a 2 chord sequence (in the form of a string). "
      ]
    },
    {
      "cell_type": "code",
      "metadata": {
        "id": "KHPZvWcTc9fD"
      },
      "source": [
        "def find_completed_ratio(encoded_data):\r\n",
        "  \r\n",
        "  ratios = []\r\n",
        "\r\n",
        "  for x in range(1, len(encoded_data.columns)): #main loop, runs through each column of the progression inputs.\r\n",
        "    c1 = chord_tally(encoded_data, x)\r\n",
        "    c1_c2_counts = first_to_second(encoded_data, x)\r\n",
        "    ratios.append(first_to_second_ratios(c1_c2_counts, c1))\r\n",
        "\r\n",
        "  return ratios"
      ],
      "execution_count": null,
      "outputs": []
    },
    {
      "cell_type": "markdown",
      "metadata": {
        "id": "1hSjQVkQbFHf"
      },
      "source": [
        "A function calls the first_to_second_ratios() function on all positions in the data, returning a list of dictionaries."
      ]
    },
    {
      "cell_type": "code",
      "metadata": {
        "id": "ZAWPtgI-Nrxn"
      },
      "source": [
        "def select_first_chord(first_chord_data, user_value):\n",
        "  \n",
        "  weighted = []\n",
        "  first_chord_data = dict(sorted(first_chord_data.items(), key=lambda item: item[1]))\n",
        "  for x in first_chord_data:\n",
        "    weighted.extend([x] * first_chord_data[x])\n",
        "\n",
        "  return random.choice(weighted)"
      ],
      "execution_count": null,
      "outputs": []
    },
    {
      "cell_type": "markdown",
      "metadata": {
        "id": "BXlhecLEbP-I"
      },
      "source": [
        "A chord is randomly chosen from a weighted list for the first chord of the generated sequence."
      ]
    },
    {
      "cell_type": "code",
      "metadata": {
        "id": "SZa6b44EMF0k"
      },
      "source": [
        "def generate_next_chord(finished_ratios, curr, prev):\n",
        "  \n",
        "  weighted=[]\n",
        "  next_chord_data = {}\n",
        "  for x in finished_ratios[curr-1]:\n",
        "    if(x[0:2].replace(\" \", \"\") == str(prev)):\n",
        "      if(x[len(x)-2:] in next_chord_data.keys()):\n",
        "        next_chord_data[x[len(x)-2:]] += 1\n",
        "      else:\n",
        "        next_chord_data[x[len(x)-2:]] = 1\n",
        "  next_chord_data = dict(sorted(next_chord_data.items(), key=lambda item: item[1]))\n",
        "  sum = 0\n",
        "  for x in next_chord_data:\n",
        "    sum += next_chord_data[x]\n",
        "  for x in next_chord_data:\n",
        "    weighted.extend([x] * int(1000*round(next_chord_data[x]/sum, 3)))\n",
        "  return random.choice(weighted)"
      ],
      "execution_count": null,
      "outputs": []
    },
    {
      "cell_type": "markdown",
      "metadata": {
        "id": "Q3y369vQbsGK"
      },
      "source": [
        "A method chooses the following three chords using weighted lists of chord sequences."
      ]
    },
    {
      "cell_type": "code",
      "metadata": {
        "id": "CHyqAw3JG3Nx"
      },
      "source": [
        "def gen_chords():\n",
        "\n",
        "  chord_one = select_first_chord(first_chord_data, 0.4)\n",
        "  chord_two = generate_next_chord(finished_ratios, 1, chord_one)\n",
        "  chord_three = generate_next_chord(finished_ratios, 2, chord_two)\n",
        "  chord_four = generate_next_chord(finished_ratios, 3, chord_three)\n",
        "  \n",
        "  return [chord_one, chord_two, chord_three, chord_four]"
      ],
      "execution_count": null,
      "outputs": []
    },
    {
      "cell_type": "markdown",
      "metadata": {
        "id": "fDbKnlaecgzo"
      },
      "source": [
        "Four chords are generated and returned as a list."
      ]
    },
    {
      "cell_type": "code",
      "metadata": {
        "id": "s39JKIydZG1o",
        "colab": {
          "base_uri": "https://localhost:8080/"
        },
        "outputId": "a0f1f05c-4bd5-459c-f03e-1d54da861154"
      },
      "source": [
        "encoded_data = pd.DataFrame()\n",
        "encoded_data = encode(data)\n",
        "first_chord_data = chord_tally(encoded_data, 1)\n",
        "finished_ratios = find_completed_ratio(encoded_data)\n",
        "worked = 0\n",
        "while(worked != 1):\n",
        "  try:\n",
        "    chords = gen_chords()\n",
        "    worked = 1\n",
        "  except:\n",
        "    pass\n",
        "\n",
        "legible_chords = []\n",
        "for x in chords:\n",
        "  legible_chords.append(le.inverse_transform([int(x)]*733)[0])\n",
        "\n",
        "print(legible_chords)"
      ],
      "execution_count": null,
      "outputs": [
        {
          "output_type": "stream",
          "text": [
            "['I7', '♭VII', 'VI9', 'iv9']\n"
          ],
          "name": "stdout"
        }
      ]
    },
    {
      "cell_type": "markdown",
      "metadata": {
        "id": "Q8ryBdA7ckwz"
      },
      "source": [
        "(Driver code) The encoder decodes the encoded chord values, which are then printed."
      ]
    }
  ]
}